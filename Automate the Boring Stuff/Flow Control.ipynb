{
 "cells": [
  {
   "cell_type": "code",
   "execution_count": 210,
   "metadata": {},
   "outputs": [
    {
     "name": "stdout",
     "output_type": "stream",
     "text": [
      "You rolled [1, 1]\n",
      "Snake Eyes! : [1, 1]\n",
      "You rolled  1 times\n"
     ]
    }
   ],
   "source": [
    "from random import randint\n",
    "# _ in the for _ in range() is known as a placeholder variable name that indicates you are not using the value of the variable for the loop. Used when you need to loop a certain numebrs of time but dont need the loop variable\n",
    "\n",
    "def rollDice(numOfDice: int, sidesOfDice:int) -> int:\n",
    "    results = [randint(1,sidesOfDice) for _ in range(numOfDice) ]\n",
    "    return results    \n",
    "\n",
    "numOfRolls = 1\n",
    "numOfDice = 2\n",
    "sidesOfDice = 3\n",
    "rolled_values = rollDice(numOfDice,sidesOfDice)\n",
    "print (\"You rolled \" + str(rolled_values))\n",
    "\n",
    "#Rolls until doubles are had\n",
    "while rolled_values[0] != rolled_values[1]:\n",
    "    rolled_values = rollDice(numOfDice,sidesOfDice)\n",
    "    print (\"You rolled \" + str(rolled_values))\n",
    "    numOfRolls += 1\n",
    "\n",
    "#Prints what kind of doubles we got and how many times we rolled \n",
    "if rolled_values[0] == 1 and rolled_values[1] == 1:\n",
    "    print (\"Snake Eyes! : \" + str(rolled_values))\n",
    "    print (\"You rolled \", str(numOfRolls)  + \" times\")\n",
    "elif rolled_values[0] == rolled_values[1]:\n",
    "    print (\"You rolled doubles: \" + str(rolled_values))\n",
    "    print (\"You rolled \", str(numOfRolls)  + \" times\")"
   ]
  }
 ],
 "metadata": {
  "kernelspec": {
   "display_name": "Python 3",
   "language": "python",
   "name": "python3"
  },
  "language_info": {
   "codemirror_mode": {
    "name": "ipython",
    "version": 3
   },
   "file_extension": ".py",
   "mimetype": "text/x-python",
   "name": "python",
   "nbconvert_exporter": "python",
   "pygments_lexer": "ipython3",
   "version": "3.11.4"
  },
  "orig_nbformat": 4
 },
 "nbformat": 4,
 "nbformat_minor": 2
}
