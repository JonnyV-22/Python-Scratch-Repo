{
 "cells": [
  {
   "cell_type": "markdown",
   "metadata": {},
   "source": [
    "Create a list of HEADS and TAILS 100 coin flips to find chance of a streak of either 6 heads or 6 tails"
   ]
  },
  {
   "cell_type": "code",
   "execution_count": 61,
   "metadata": {},
   "outputs": [
    {
     "name": "stdout",
     "output_type": "stream",
     "text": [
      "30283\n",
      "Chance of streak: 3.0283%\n"
     ]
    }
   ],
   "source": [
    "import random\n",
    "import copy\n",
    "numberOfStreaks = 0\n",
    "coinFlip = []\n",
    "for experimentNumber in range(10000):\n",
    "    # Code that creates a list of 100 'heads' or 'tails' values.\n",
    "    # 0 is Heads, 1 is Tails\n",
    "    \n",
    "    for i in range(100):\n",
    "        if(random.randint(0,1) == 0):\n",
    "            coinFlip.append('H')\n",
    "        else:\n",
    "            coinFlip.append('T')\n",
    "    \n",
    "    for j in range(100):\n",
    "        if(coinFlip[j:j+6]) == ['T', 'T', 'T', 'T', 'T', 'T']:\n",
    "            numberOfStreaks += 1\n",
    "        elif(coinFlip[j:j+6]) == ['H', 'H', 'H', 'H', 'H', 'H']:\n",
    "            numberOfStreaks += 1\n",
    "        else:\n",
    "            numberOfStreaks += 0\n",
    "        \n",
    "    coinFlip = []\n",
    "print(numberOfStreaks)\n",
    "\n",
    "chance = numberOfStreaks / 10000\n",
    "        \n",
    "# Code that checks if there is a streak of 6 heads or tails in a row.\n",
    "print('Chance of streak: %s%%' % chance)\n"
   ]
  }
 ],
 "metadata": {
  "kernelspec": {
   "display_name": "Python 3",
   "language": "python",
   "name": "python3"
  },
  "language_info": {
   "codemirror_mode": {
    "name": "ipython",
    "version": 3
   },
   "file_extension": ".py",
   "mimetype": "text/x-python",
   "name": "python",
   "nbconvert_exporter": "python",
   "pygments_lexer": "ipython3",
   "version": "3.11.4"
  },
  "orig_nbformat": 4
 },
 "nbformat": 4,
 "nbformat_minor": 2
}
