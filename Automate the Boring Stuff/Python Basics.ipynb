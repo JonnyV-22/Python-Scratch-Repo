{
 "cells": [
  {
   "cell_type": "code",
   "execution_count": null,
   "metadata": {},
   "outputs": [],
   "source": [
    "x: int = 5\n",
    "\n",
    "x\n",
    "\n",
    "#Math operators supported in Python:\n",
    "2 ** 3 #Exponent\n",
    "22 % 8 #Remainder Division\n",
    "22 // 8 #Integer Division that is then rounded down\n",
    "22 / 8 #Integer Division\n",
    "3 * 6 #Multiplication\n",
    "9 - 3 #Subtraction\n",
    "2 + 7 #Addition\n"
   ]
  },
  {
   "cell_type": "markdown",
   "metadata": {},
   "source": [
    "Integers are any whole numbers including negatives through positive\n",
    "Floating point numbers are decimal numbers including negatives through positive\n",
    "Strings contain text values and are defined with quotes '' or \"\"\n",
    "\n",
    "You are able to join strings together using the + symbol\n",
    "You can replicate a string multiple times with *\n",
    "\n",
    "\"Jonathan\" * 3 would return JonathanJonathanJonathan"
   ]
  },
  {
   "cell_type": "code",
   "execution_count": 42,
   "metadata": {},
   "outputs": [
    {
     "data": {
      "text/plain": [
       "'Jonathan Zach'"
      ]
     },
     "execution_count": 42,
     "metadata": {},
     "output_type": "execute_result"
    }
   ],
   "source": [
    "\"Jonathan\" + \" \" + \"Zach\""
   ]
  },
  {
   "cell_type": "code",
   "execution_count": 43,
   "metadata": {},
   "outputs": [
    {
     "data": {
      "text/plain": [
       "'JonathanJonathanJonathan'"
      ]
     },
     "execution_count": 43,
     "metadata": {},
     "output_type": "execute_result"
    }
   ],
   "source": [
    "\"Jonathan\" * 3"
   ]
  },
  {
   "cell_type": "code",
   "execution_count": 44,
   "metadata": {},
   "outputs": [
    {
     "ename": "TypeError",
     "evalue": "can only concatenate str (not \"int\") to str",
     "output_type": "error",
     "traceback": [
      "\u001b[1;31m---------------------------------------------------------------------------\u001b[0m",
      "\u001b[1;31mTypeError\u001b[0m                                 Traceback (most recent call last)",
      "Cell \u001b[1;32mIn[44], line 2\u001b[0m\n\u001b[0;32m      1\u001b[0m \u001b[39m#You cannot join Strings and Integers with the + symbol\u001b[39;00m\n\u001b[1;32m----> 2\u001b[0m \u001b[39m\"\u001b[39;49m\u001b[39mJonathan is \u001b[39;49m\u001b[39m\"\u001b[39;49m \u001b[39m+\u001b[39;49m \u001b[39m26\u001b[39;49m\n",
      "\u001b[1;31mTypeError\u001b[0m: can only concatenate str (not \"int\") to str"
     ]
    }
   ],
   "source": [
    "#You cannot join Strings and Integers with the + symbol\n",
    "\"Jonathan is \" + 26"
   ]
  },
  {
   "cell_type": "code",
   "execution_count": 45,
   "metadata": {},
   "outputs": [
    {
     "data": {
      "text/plain": [
       "'Jonathan is 26'"
      ]
     },
     "execution_count": 45,
     "metadata": {},
     "output_type": "execute_result"
    }
   ],
   "source": [
    "#You can cast the integer as a string to do this\n",
    "\"Jonathan is \" + str(26)"
   ]
  },
  {
   "cell_type": "markdown",
   "metadata": {},
   "source": [
    "Values can be stored inside of variables"
   ]
  },
  {
   "cell_type": "code",
   "execution_count": 46,
   "metadata": {},
   "outputs": [
    {
     "data": {
      "text/plain": [
       "1791"
      ]
     },
     "execution_count": 46,
     "metadata": {},
     "output_type": "execute_result"
    }
   ],
   "source": [
    "lunter = 1800\n",
    "lunter #This variable now contains the integer value 1800\n",
    "\n",
    "lunter - 9 #This will do integer math of 1800 - 9\n"
   ]
  },
  {
   "cell_type": "code",
   "execution_count": null,
   "metadata": {},
   "outputs": [],
   "source": [
    "When using variable names certain things are not allowed\n",
    "\n",
    "Using hyphens are not allowed\n",
    "Spaces inside the variable name are not allowed\n",
    "Cannot begin with a number\n",
    "Special characters like $, #, ' \n",
    "\n",
    "A perfectly fine way to name variables is to use camel or snake case\n",
    "\n",
    "thisIsCamelCase \n",
    "this_is_snake_case"
   ]
  },
  {
   "cell_type": "code",
   "execution_count": 41,
   "metadata": {},
   "outputs": [
    {
     "name": "stdout",
     "output_type": "stream",
     "text": [
      "What is your name?\n",
      "Jonathan, right?\n",
      "Hi Jonathan\n",
      "You have 8 characters in your name\n"
     ]
    }
   ],
   "source": [
    "#You can take input from a user using the input() method\n",
    "#Print returns something to the end user screen\n",
    "\n",
    "print(\"What is your name?\")\n",
    "myName = input() #This will prompt the user to enter something in the terminal\n",
    "print(myName + \", right?\")\n",
    "print(\"Hi \" + myName)\n",
    "print(\"You have \" + str(len(myName)) + \" characters in your name\")"
   ]
  },
  {
   "cell_type": "markdown",
   "metadata": {},
   "source": [
    "In Python 3.5 type hinting as a feature was added to specify the type of variable when writing code. It is not neccessary to do this but will help with the maintainability of code in the future and prevent errors before it reaches runtime\n",
    "\n",
    "When defining a function such as. Functions will be something to cover later but here is a simple example of one.\n",
    "\n",
    "def add(x: int, y:int) -> int:\n",
    "    return x + y"
   ]
  },
  {
   "cell_type": "code",
   "execution_count": 47,
   "metadata": {},
   "outputs": [
    {
     "name": "stdout",
     "output_type": "stream",
     "text": [
      "5\n"
     ]
    },
    {
     "ename": "TypeError",
     "evalue": "unsupported operand type(s) for +: 'int' and 'str'",
     "output_type": "error",
     "traceback": [
      "\u001b[1;31m---------------------------------------------------------------------------\u001b[0m",
      "\u001b[1;31mTypeError\u001b[0m                                 Traceback (most recent call last)",
      "Cell \u001b[1;32mIn[47], line 7\u001b[0m\n\u001b[0;32m      4\u001b[0m result \u001b[39m=\u001b[39m add(\u001b[39m2\u001b[39m,\u001b[39m3\u001b[39m)\n\u001b[0;32m      5\u001b[0m \u001b[39mprint\u001b[39m(result)\n\u001b[1;32m----> 7\u001b[0m result2 \u001b[39m=\u001b[39m add(\u001b[39m2\u001b[39;49m,\u001b[39m\"\u001b[39;49m\u001b[39mthree\u001b[39;49m\u001b[39m\"\u001b[39;49m)\n\u001b[0;32m      8\u001b[0m \u001b[39mprint\u001b[39m (result2)\n\u001b[0;32m     10\u001b[0m \u001b[39m#We can more quickly see this will return an error before running the code since the function is explicity expecting 2 integers which might not be as clear without type hinting\u001b[39;00m\n",
      "Cell \u001b[1;32mIn[47], line 2\u001b[0m, in \u001b[0;36madd\u001b[1;34m(x, y)\u001b[0m\n\u001b[0;32m      1\u001b[0m \u001b[39mdef\u001b[39;00m \u001b[39madd\u001b[39m(x: \u001b[39mint\u001b[39m, y:\u001b[39mint\u001b[39m) \u001b[39m-\u001b[39m\u001b[39m>\u001b[39m \u001b[39mint\u001b[39m:\n\u001b[1;32m----> 2\u001b[0m     \u001b[39mreturn\u001b[39;00m x \u001b[39m+\u001b[39;49m y\n",
      "\u001b[1;31mTypeError\u001b[0m: unsupported operand type(s) for +: 'int' and 'str'"
     ]
    }
   ],
   "source": [
    "def add(x: int, y:int) -> int:\n",
    "    return x + y\n",
    "\n",
    "result = add(2,3)\n",
    "print(result)\n",
    "\n",
    "result2 = add(2,\"three\")\n",
    "print (result2)\n",
    "\n",
    "#We can more quickly see this will return an error before running the code since the function is explicity expecting 2 integers which might not be as clear without type hinting"
   ]
  },
  {
   "cell_type": "code",
   "execution_count": 48,
   "metadata": {},
   "outputs": [
    {
     "name": "stdout",
     "output_type": "stream",
     "text": [
      "5\n"
     ]
    },
    {
     "ename": "TypeError",
     "evalue": "unsupported operand type(s) for +: 'int' and 'str'",
     "output_type": "error",
     "traceback": [
      "\u001b[1;31m---------------------------------------------------------------------------\u001b[0m",
      "\u001b[1;31mTypeError\u001b[0m                                 Traceback (most recent call last)",
      "Cell \u001b[1;32mIn[48], line 9\u001b[0m\n\u001b[0;32m      6\u001b[0m result \u001b[39m=\u001b[39m add(\u001b[39m2\u001b[39m,\u001b[39m3\u001b[39m)\n\u001b[0;32m      7\u001b[0m \u001b[39mprint\u001b[39m(result)\n\u001b[1;32m----> 9\u001b[0m result2 \u001b[39m=\u001b[39m add(\u001b[39m2\u001b[39;49m,\u001b[39m\"\u001b[39;49m\u001b[39mthree\u001b[39;49m\u001b[39m\"\u001b[39;49m)\n\u001b[0;32m     10\u001b[0m \u001b[39mprint\u001b[39m (result2)\n",
      "Cell \u001b[1;32mIn[48], line 4\u001b[0m, in \u001b[0;36madd\u001b[1;34m(x, y)\u001b[0m\n\u001b[0;32m      3\u001b[0m \u001b[39mdef\u001b[39;00m \u001b[39madd\u001b[39m(x,y):\n\u001b[1;32m----> 4\u001b[0m     \u001b[39mreturn\u001b[39;00m x\u001b[39m+\u001b[39;49my\n",
      "\u001b[1;31mTypeError\u001b[0m: unsupported operand type(s) for +: 'int' and 'str'"
     ]
    }
   ],
   "source": [
    "#We can also write this function as:\n",
    "\n",
    "def add(x,y):\n",
    "    return x+y\n",
    "\n",
    "result = add(2,3)\n",
    "print(result)\n",
    "\n",
    "result2 = add(2,\"three\")\n",
    "print (result2)"
   ]
  }
 ],
 "metadata": {
  "kernelspec": {
   "display_name": "Python 3",
   "language": "python",
   "name": "python3"
  },
  "language_info": {
   "codemirror_mode": {
    "name": "ipython",
    "version": 3
   },
   "file_extension": ".py",
   "mimetype": "text/x-python",
   "name": "python",
   "nbconvert_exporter": "python",
   "pygments_lexer": "ipython3",
   "version": "3.11.4"
  },
  "orig_nbformat": 4
 },
 "nbformat": 4,
 "nbformat_minor": 2
}
