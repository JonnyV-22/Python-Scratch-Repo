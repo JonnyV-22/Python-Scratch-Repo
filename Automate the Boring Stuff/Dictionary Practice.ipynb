{
 "cells": [
  {
   "cell_type": "code",
   "execution_count": 19,
   "metadata": {},
   "outputs": [
    {
     "name": "stdout",
     "output_type": "stream",
     "text": [
      "{'I': 1, 't': 6, ' ': 13, 'w': 2, 'a': 4, 's': 3, 'b': 1, 'r': 5, 'i': 6, 'g': 2, 'h': 3, 'c': 3, 'o': 2, 'l': 3, 'd': 3, 'y': 1, 'n': 4, 'A': 1, 'p': 1, ',': 1, 'e': 5, 'k': 2, '.': 1}\n",
      "Key: I Value: 1\n",
      "Key: t Value: 6\n",
      "Key:   Value: 13\n",
      "Key: w Value: 2\n",
      "Key: a Value: 4\n",
      "Key: s Value: 3\n",
      "Key: b Value: 1\n",
      "Key: r Value: 5\n",
      "Key: i Value: 6\n",
      "Key: g Value: 2\n",
      "Key: h Value: 3\n",
      "Key: c Value: 3\n",
      "Key: o Value: 2\n",
      "Key: l Value: 3\n",
      "Key: d Value: 3\n",
      "Key: y Value: 1\n",
      "Key: n Value: 4\n",
      "Key: A Value: 1\n",
      "Key: p Value: 1\n",
      "Key: , Value: 1\n",
      "Key: e Value: 5\n",
      "Key: k Value: 2\n",
      "Key: . Value: 1\n"
     ]
    }
   ],
   "source": [
    "message = 'It was a bright cold day in April, and the clocks were striking thirteen.'\n",
    "\n",
    "count = {}\n",
    "\n",
    "for character in message:\n",
    "    count.setdefault(character,0)\n",
    "    count[character] = count[character] + 1\n",
    "    \n",
    "print(count)\n",
    "\n",
    "for k, v in count.items():\n",
    "    print(\"Key: \" + str(k) + \" Value: \" + str(v))"
   ]
  },
  {
   "cell_type": "code",
   "execution_count": 1,
   "metadata": {},
   "outputs": [
    {
     "name": "stdout",
     "output_type": "stream",
     "text": [
      "Tic Tac Toe Board\n",
      "   |      |   \n",
      "----------------\n",
      "   |      |   \n",
      "----------------\n",
      "   |      |   \n"
     ]
    }
   ],
   "source": [
    "theBoard = {'top-L': ' ', 'top-M': ' ', 'top-R': ' ', 'mid-L': ' ', 'mid-M':\n",
    "' ', 'mid-R': ' ', 'low-L': ' ', 'low-M': ' ', 'low-R': ' '}\n",
    "\n",
    "'''\n",
    "def printBoard(board):\n",
    "    print(board['top-L'] + '|' + board['top-M'] + '|' + board['top-R'])\n",
    "    print('-+-+-')\n",
    "    print(board['mid-L'] + '|' + board['mid-M'] + '|' + board['mid-R'])\n",
    "    print('-+-+-')\n",
    "    print(board['low-L'] + '|' + board['low-M'] + '|' + board['low-R'])\n",
    "printBoard(theBoard)\n",
    "'''\n",
    "\n",
    "def printBoard1(board, width):\n",
    "    print('Tic Tac Toe Board'.center(width + width, '-'))\n",
    "    #for k, v in board.items():\n",
    "        #print(k.ljust(leftWidth, '.') + str(v).rjust(rightWidth))\n",
    "    print(board['top-L'].ljust(width, ' ') + '|' + board['top-M'].center(width + width) + '|' + board['top-R'].rjust(width, ' '))\n",
    "    print('----------------'.center(width+width, \"-\"))\n",
    "    print(board['mid-L'].ljust(width, ' ') + '|' + board['mid-M'].center(width + width) + '|' + board['mid-R'].rjust(width, ' '))\n",
    "    print('----------------'.center(width+width, \"-\"))\n",
    "    print(board['low-L'].ljust(width, ' ') + '|' + board['low-M'].center(width + width) + '|' + board['low-R'].rjust(width, ' '))\n",
    "printBoard1(theBoard,3)\n"
   ]
  }
 ],
 "metadata": {
  "kernelspec": {
   "display_name": "Python 3",
   "language": "python",
   "name": "python3"
  },
  "language_info": {
   "codemirror_mode": {
    "name": "ipython",
    "version": 3
   },
   "file_extension": ".py",
   "mimetype": "text/x-python",
   "name": "python",
   "nbconvert_exporter": "python",
   "pygments_lexer": "ipython3",
   "version": "3.11.5"
  },
  "orig_nbformat": 4
 },
 "nbformat": 4,
 "nbformat_minor": 2
}
