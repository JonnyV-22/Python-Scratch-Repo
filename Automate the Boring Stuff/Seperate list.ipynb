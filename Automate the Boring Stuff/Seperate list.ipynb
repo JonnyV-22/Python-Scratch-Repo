{
 "cells": [
  {
   "cell_type": "code",
   "execution_count": 91,
   "metadata": {},
   "outputs": [
    {
     "name": "stdout",
     "output_type": "stream",
     "text": [
      "apples, bananas, tofu, and cats\n"
     ]
    }
   ],
   "source": [
    "spam = ['apples', 'bananas', 'tofu', 'cats']\n",
    "\n",
    "listLength = len(spam)\n",
    "\n",
    "if spam != []:\n",
    "    spam.insert(listLength - 1, 'and')\n",
    "\n",
    "\n",
    "\n",
    "#print(listLength)\n",
    "\n",
    "for i in range(listLength-1):\n",
    "    print(spam[i] + ', ', end=\"\")\n",
    "\n",
    "print('and ' + spam[listLength])\n",
    "\n",
    "\n",
    "\n",
    "\n",
    "\n",
    "    "
   ]
  },
  {
   "cell_type": "markdown",
   "metadata": {},
   "source": [
    "Need to conver the above into a callable function"
   ]
  }
 ],
 "metadata": {
  "kernelspec": {
   "display_name": "Python 3",
   "language": "python",
   "name": "python3"
  },
  "language_info": {
   "codemirror_mode": {
    "name": "ipython",
    "version": 3
   },
   "file_extension": ".py",
   "mimetype": "text/x-python",
   "name": "python",
   "nbconvert_exporter": "python",
   "pygments_lexer": "ipython3",
   "version": "3.11.4"
  },
  "orig_nbformat": 4
 },
 "nbformat": 4,
 "nbformat_minor": 2
}
