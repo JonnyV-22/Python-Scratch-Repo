{
 "cells": [
  {
   "cell_type": "code",
   "execution_count": 8,
   "metadata": {},
   "outputs": [],
   "source": [
    "from pathlib import Path\n",
    "import csv"
   ]
  },
  {
   "cell_type": "code",
   "execution_count": 9,
   "metadata": {},
   "outputs": [
    {
     "name": "stdout",
     "output_type": "stream",
     "text": [
      "['STATION', 'NAME', 'DATE', 'TAVG', 'TMAX', 'TMIN']\n"
     ]
    }
   ],
   "source": [
    "path = Path(r\"C:\\Users\\jonat\\OneDrive\\Documents\\GitHub\\Python-Scratch-Repo\\python_work\\Downloading_Data\\weather_data\\sitka_weather_07-2021_simple.csv\")\n",
    "lines = path.read_text().splitlines()\n",
    "'''This will read the file and chain the .splitlines method to get a list of all lines in the file which is then assigned to the variable lines'''\n",
    "\n",
    "reader = csv.reader(lines)\n",
    "'''This is an object to parse each line'''\n",
    "\n",
    "header_row = next(reader)\n",
    "'''The next function returns the next lien starting from the beginning. In this file the first line is the header'''\n",
    "\n",
    "print(header_row)\n"
   ]
  }
 ],
 "metadata": {
  "kernelspec": {
   "display_name": "Python 3",
   "language": "python",
   "name": "python3"
  },
  "language_info": {
   "codemirror_mode": {
    "name": "ipython",
    "version": 3
   },
   "file_extension": ".py",
   "mimetype": "text/x-python",
   "name": "python",
   "nbconvert_exporter": "python",
   "pygments_lexer": "ipython3",
   "version": "3.11.5"
  },
  "orig_nbformat": 4
 },
 "nbformat": 4,
 "nbformat_minor": 2
}
