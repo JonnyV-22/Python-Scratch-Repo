{
 "cells": [
  {
   "cell_type": "code",
   "execution_count": 6,
   "metadata": {},
   "outputs": [
    {
     "name": "stdout",
     "output_type": "stream",
     "text": [
      "Example:\n",
      "Hello\n"
     ]
    }
   ],
   "source": [
    "'''\n",
    "You are given a string and you have to find its first word.\n",
    "\n",
    "The input string consists of only English letters and spaces.\n",
    "There are not any spaces at the beginning and the end of the string.\n",
    "'''\n",
    "\n",
    "\n",
    "def first_word(text: str) -> str:\n",
    "    str_list = text.split()\n",
    "    return str_list[0]\n",
    "\n",
    "\n",
    "print(\"Example:\")\n",
    "print(first_word(\"Hello world\"))\n",
    "\n",
    "# These \"asserts\" are used for self-checking\n",
    "assert first_word(\"Hello world\") == \"Hello\"\n",
    "assert first_word(\"a word\") == \"a\"\n",
    "assert first_word(\"greeting from CheckiO Planet\") == \"greeting\"\n",
    "assert first_word(\"hi\") == \"hi\""
   ]
  },
  {
   "cell_type": "code",
   "execution_count": 7,
   "metadata": {},
   "outputs": [
    {
     "name": "stdout",
     "output_type": "stream",
     "text": [
      "Example:\n",
      "Hello\n"
     ]
    }
   ],
   "source": [
    "def first_word(text: str) -> str:\n",
    "    i = 0\n",
    "    while i < len(text) and text[i] != ' ':\n",
    "        i += 1\n",
    "    return text[:i]\n",
    "\n",
    "print(\"Example:\")\n",
    "print(first_word(\"Hello world\"))"
   ]
  },
  {
   "cell_type": "code",
   "execution_count": 13,
   "metadata": {},
   "outputs": [
    {
     "name": "stdout",
     "output_type": "stream",
     "text": [
      "Example:\n",
      "this\n"
     ]
    }
   ],
   "source": [
    "def first_word(text):\n",
    "    index = text.find(\" \")\n",
    "    return text[:index] if index != -1 else text\n",
    "\n",
    "print(\"Example:\")\n",
    "print(first_word(\"this is a test \"))"
   ]
  }
 ],
 "metadata": {
  "kernelspec": {
   "display_name": "Python 3",
   "language": "python",
   "name": "python3"
  },
  "language_info": {
   "codemirror_mode": {
    "name": "ipython",
    "version": 3
   },
   "file_extension": ".py",
   "mimetype": "text/x-python",
   "name": "python",
   "nbconvert_exporter": "python",
   "pygments_lexer": "ipython3",
   "version": "3.11.5"
  },
  "orig_nbformat": 4
 },
 "nbformat": 4,
 "nbformat_minor": 2
}
