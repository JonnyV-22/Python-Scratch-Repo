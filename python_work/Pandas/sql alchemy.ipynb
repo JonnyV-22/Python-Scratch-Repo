{
 "cells": [
  {
   "cell_type": "code",
   "execution_count": 1,
   "metadata": {},
   "outputs": [
    {
     "name": "stdout",
     "output_type": "stream",
     "text": [
      "        DisplayName  DownVotes\n",
      "0         Community     980920\n",
      "1       Jeff Atwood       1309\n",
      "2      Geoff Dalgas         88\n",
      "3      Jarrod Dixon        100\n",
      "4      Joel Spolsky         96\n",
      "5      Jon Galloway         34\n",
      "6      Eggs McLaren          9\n",
      "7       Kevin Dente          4\n",
      "8  Sneakers O'Toole          0\n",
      "9    Anonymous User          0\n"
     ]
    }
   ],
   "source": [
    "import pandas as pd\n",
    "from sqlalchemy.engine import URL\n",
    "import sqlalchemy as sa\n",
    "\n",
    "# Replace these variables with your own values\n",
    "server = 'DESKTOP-2I5PSJI'  \n",
    "database = 'StackOverFlow2013'\n",
    "\n",
    "# Create a connection string\n",
    "#connection_string = f'DRIVER={{ODBC Driver 18 for SQL Server}};SERVER={server};DATABASE={database};Trusted_Connection=yes'\n",
    "connection_string = f'DRIVER={{SQL Server}};SERVER={server};DATABASE={database};Trusted_Connection=yes'\n",
    "connection_url = URL.create(\"mssql+pyodbc\", query={\"odbc_connect\": connection_string})\n",
    "\n",
    "from sqlalchemy import create_engine\n",
    "engine = create_engine(connection_url)\n",
    "\n",
    "sql = \"select top 10 DisplayName, DownVotes from Users\"\n",
    "\n",
    "with engine.begin() as conn:\n",
    "    df = pd.read_sql_query(sql, conn)\n",
    "    \n",
    "'''\n",
    "#Another way to do the above\n",
    "with engine.begin() as conn:\n",
    "    df = pd.read_sql_query(sa.text(\"SELECT 'thing' as txt\"), conn)\n",
    "'''\n",
    "\n",
    "print(df)\n",
    "\n"
   ]
  }
 ],
 "metadata": {
  "kernelspec": {
   "display_name": "Python 3",
   "language": "python",
   "name": "python3"
  },
  "language_info": {
   "codemirror_mode": {
    "name": "ipython",
    "version": 3
   },
   "file_extension": ".py",
   "mimetype": "text/x-python",
   "name": "python",
   "nbconvert_exporter": "python",
   "pygments_lexer": "ipython3",
   "version": "3.11.5"
  },
  "orig_nbformat": 4
 },
 "nbformat": 4,
 "nbformat_minor": 2
}
