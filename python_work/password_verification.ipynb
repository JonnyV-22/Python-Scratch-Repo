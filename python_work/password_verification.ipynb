{
 "cells": [
  {
   "cell_type": "code",
   "execution_count": 3,
   "metadata": {},
   "outputs": [
    {
     "name": "stdout",
     "output_type": "stream",
     "text": [
      "Example:\n",
      "True\n"
     ]
    }
   ],
   "source": [
    "'''\n",
    "In this mission, you need to create a password verification function.\n",
    "\n",
    "The verification condition is:\n",
    "the length should be bigger than 6.\n",
    "'''\n",
    "def is_acceptable_password(password: str) -> bool:\n",
    "    if len(password) > 6:\n",
    "        return True \n",
    "    else:\n",
    "        return False\n",
    "\n",
    "\n",
    "print(\"Example:\")\n",
    "print(is_acceptable_password(\"longenough\"))\n",
    "\n",
    "# These \"asserts\" are used for self-checking\n",
    "assert is_acceptable_password(\"short\") == False\n",
    "assert is_acceptable_password(\"muchlonger\") == True\n",
    "assert is_acceptable_password(\"ashort\") == False\n"
   ]
  }
 ],
 "metadata": {
  "kernelspec": {
   "display_name": "Python 3",
   "language": "python",
   "name": "python3"
  },
  "language_info": {
   "codemirror_mode": {
    "name": "ipython",
    "version": 3
   },
   "file_extension": ".py",
   "mimetype": "text/x-python",
   "name": "python",
   "nbconvert_exporter": "python",
   "pygments_lexer": "ipython3",
   "version": "3.11.5"
  },
  "orig_nbformat": 4
 },
 "nbformat": 4,
 "nbformat_minor": 2
}
