{
 "cells": [
  {
   "cell_type": "code",
   "execution_count": 7,
   "metadata": {},
   "outputs": [
    {
     "name": "stdout",
     "output_type": "stream",
     "text": [
      "fit a model with 11 variables\n"
     ]
    },
    {
     "data": {
      "text/plain": [
       "8"
      ]
     },
     "execution_count": 7,
     "metadata": {},
     "output_type": "execute_result"
    }
   ],
   "source": [
    "# Print returns arguments to console\n",
    "print('fit a model with', 11, 'variables')\n",
    "\n",
    "\n",
    "# Integer math\n",
    "3 + 5\n"
   ]
  },
  {
   "cell_type": "code",
   "execution_count": 8,
   "metadata": {},
   "outputs": [
    {
     "data": {
      "text/plain": [
       "8"
      ]
     },
     "execution_count": 8,
     "metadata": {},
     "output_type": "execute_result"
    }
   ],
   "source": [
    "# Integer math\n",
    "3 + 5"
   ]
  },
  {
   "cell_type": "code",
   "execution_count": 12,
   "metadata": {},
   "outputs": [
    {
     "data": {
      "text/plain": [
       "'hello world'"
      ]
     },
     "execution_count": 12,
     "metadata": {},
     "output_type": "execute_result"
    }
   ],
   "source": [
    "# Strings can be concatenated\n",
    "\"hello\" + \" \" + \"world\""
   ]
  },
  {
   "cell_type": "code",
   "execution_count": 23,
   "metadata": {},
   "outputs": [
    {
     "data": {
      "text/plain": [
       "[3, 4, 5]"
      ]
     },
     "execution_count": 23,
     "metadata": {},
     "output_type": "execute_result"
    }
   ],
   "source": [
    "# List are defined with []\n",
    "x = [3,4,5]\n",
    "x"
   ]
  },
  {
   "cell_type": "code",
   "execution_count": 28,
   "metadata": {},
   "outputs": [
    {
     "name": "stdout",
     "output_type": "stream",
     "text": [
      "[7, 13, 12]\n"
     ]
    }
   ],
   "source": [
    "# List can be concatenated together\n",
    "y = [4, 9, 7]\n",
    "x + y\n",
    "\n",
    "# The above returns [3, 4, 5, 4, 9, 7] since they are concatenated rather than added \n",
    "\n",
    "# If you want to add the values together you could do this\n",
    "added = [y[i] + x[i] for i in range(len(y))]\n",
    "print(added)\n"
   ]
  },
  {
   "cell_type": "code",
   "execution_count": 13,
   "metadata": {},
   "outputs": [
    {
     "data": {
      "text/plain": [
       "array([ 7, 13, 12])"
      ]
     },
     "execution_count": 13,
     "metadata": {},
     "output_type": "execute_result"
    }
   ],
   "source": [
    "# Another way we can get the added listed together is using numpy\n",
    "import numpy as np\n",
    "\n",
    "# np.array() function to define x and y which are one-dimensional arrays or vectors\n",
    "x = np.array([3, 4, 5])\n",
    "y = np.array([4, 9, 7])\n",
    "\n",
    "x + y"
   ]
  },
  {
   "cell_type": "code",
   "execution_count": 30,
   "metadata": {},
   "outputs": [
    {
     "data": {
      "text/plain": [
       "array([[1, 2],\n",
       "       [3, 4]])"
      ]
     },
     "execution_count": 30,
     "metadata": {},
     "output_type": "execute_result"
    }
   ],
   "source": [
    "# Numpy matrices are typically represented as two-dimensional arrays and vectors as one dimensional\n",
    "# A two dimensional array looks like this\n",
    "\n",
    "x = np.array([[1, 2], [3, 4]])\n",
    "x"
   ]
  },
  {
   "cell_type": "code",
   "execution_count": 31,
   "metadata": {},
   "outputs": [
    {
     "data": {
      "text/plain": [
       "2"
      ]
     },
     "execution_count": 31,
     "metadata": {},
     "output_type": "execute_result"
    }
   ],
   "source": [
    "x.ndim\n",
    "\n",
    "# The output of 2 indicates this is a two-dimensional aray"
   ]
  },
  {
   "cell_type": "code",
   "execution_count": 32,
   "metadata": {},
   "outputs": [
    {
     "data": {
      "text/plain": [
       "dtype('int32')"
      ]
     },
     "execution_count": 32,
     "metadata": {},
     "output_type": "execute_result"
    }
   ],
   "source": [
    "x.dtype\n",
    "\n",
    "# This returns integer since we passed in exclusively integer if we passed in values with decimals then we would have obtained an array of floating point numbers"
   ]
  },
  {
   "cell_type": "code",
   "execution_count": 33,
   "metadata": {},
   "outputs": [
    {
     "data": {
      "text/plain": [
       "dtype('float64')"
      ]
     },
     "execution_count": 33,
     "metadata": {},
     "output_type": "execute_result"
    }
   ],
   "source": [
    "np.array([[1, 2], [3.1, 4]]).dtype"
   ]
  },
  {
   "cell_type": "code",
   "execution_count": null,
   "metadata": {},
   "outputs": [],
   "source": [
    "# You can get documentation to display with a function by attached a ? to the end of a function\n",
    "np.array?"
   ]
  },
  {
   "cell_type": "code",
   "execution_count": 35,
   "metadata": {},
   "outputs": [
    {
     "data": {
      "text/plain": [
       "dtype('float64')"
      ]
     },
     "execution_count": 35,
     "metadata": {},
     "output_type": "execute_result"
    }
   ],
   "source": [
    "# Using the above means we can make an integer array to floating type by changing the dtype optional parameter\n",
    "np.array([[1, 2], [3, 4]], float).dtype"
   ]
  },
  {
   "cell_type": "code",
   "execution_count": 36,
   "metadata": {},
   "outputs": [
    {
     "data": {
      "text/plain": [
       "(2, 2)"
      ]
     },
     "execution_count": 36,
     "metadata": {},
     "output_type": "execute_result"
    }
   ],
   "source": [
    "# If we use the shape attribute we can find out its number of rows and columns\n",
    "x.shape"
   ]
  },
  {
   "cell_type": "code",
   "execution_count": 38,
   "metadata": {},
   "outputs": [
    {
     "data": {
      "text/plain": [
       "10"
      ]
     },
     "execution_count": 38,
     "metadata": {},
     "output_type": "execute_result"
    }
   ],
   "source": [
    "# We can sum all the elements of an array by calling like x.sum() it automatically passes x into the first argument\n",
    "\n",
    "x = np.array([1, 2, 3, 4])\n",
    "x.sum()\n",
    "\n",
    "# You could get the same result by calling np.sum(x)\n",
    "np.sum(x)"
   ]
  },
  {
   "cell_type": "code",
   "execution_count": 42,
   "metadata": {},
   "outputs": [
    {
     "name": "stdout",
     "output_type": "stream",
     "text": [
      "Begigning x:\n",
      " [1 2 3 4 5 6]\n",
      "Reshaped x:\n",
      " [[1 2 3]\n",
      " [4 5 6]]\n"
     ]
    }
   ],
   "source": [
    "# You can call reshape() to return a new array with the same elements but a different shape\n",
    "# Using \\n indicates a new line\n",
    "x = np.array([1, 2, 3, 4, 5, 6])\n",
    "print(\"Begigning x:\\n\", x)\n",
    "x_reshape = x.reshape((2,3))\n",
    "print(\"Reshaped x:\\n\", x_reshape)"
   ]
  },
  {
   "cell_type": "code",
   "execution_count": 46,
   "metadata": {},
   "outputs": [
    {
     "data": {
      "text/plain": [
       "6"
      ]
     },
     "execution_count": 46,
     "metadata": {},
     "output_type": "execute_result"
    }
   ],
   "source": [
    "# You can access array elements of x_reshape like this\n",
    "\n",
    "x_reshape[1, 2]"
   ]
  },
  {
   "cell_type": "code",
   "execution_count": 48,
   "metadata": {},
   "outputs": [
    {
     "name": "stdout",
     "output_type": "stream",
     "text": [
      "x before we modify x_shape:\n",
      " [9 2 3 4 5 6]\n",
      "x_reshape before we modify x_reshape:\n",
      " [[9 2 3]\n",
      " [4 5 6]]\n",
      "x_reshape after we modify its top left element [0, 0]:\n",
      " [[9 2 3]\n",
      " [4 5 6]]\n",
      "x after we modify the top left element [0, 0]: \n",
      " [9 2 3 4 5 6]\n"
     ]
    }
   ],
   "source": [
    "# We can modify the top left element [0, 0] in our array\n",
    "print(\"x before we modify x_shape:\\n\" , x)\n",
    "print(\"x_reshape before we modify x_reshape:\\n\", x_reshape)\n",
    "x_reshape[0, 0] = 9\n",
    "print(\"x_reshape after we modify its top left element [0, 0]:\\n\", x_reshape)\n",
    "print(\"x after we modify the top left element [0, 0]: \\n\", x)"
   ]
  },
  {
   "cell_type": "code",
   "execution_count": null,
   "metadata": {},
   "outputs": [],
   "source": [
    "# Modifying x_shape also modified x because the two object occupy the same space in memory\n",
    "\n",
    "# We can modify an element of an array but you cannot modify an element of a tuple indicated by () because they are immutable\n",
    "\n",
    "my_tuple = (3, 4, 5)\n",
    "my_tuple[1] = 8\n",
    "\n",
    "# This will generate an error"
   ]
  },
  {
   "cell_type": "code",
   "execution_count": 53,
   "metadata": {},
   "outputs": [
    {
     "data": {
      "text/plain": [
       "(array([[9, 2, 3],\n",
       "        [4, 5, 6]]),\n",
       " (2, 3),\n",
       " 2,\n",
       " array([[9, 4],\n",
       "        [2, 5],\n",
       "        [3, 6]]))"
      ]
     },
     "execution_count": 53,
     "metadata": {},
     "output_type": "execute_result"
    }
   ],
   "source": [
    "# Some attributes that can be useful when dealing with arrays\n",
    "# The shape attribute contains its dimension and it is always a tuple\n",
    "# The ndim attribute yields its number of dimensions\n",
    "# T provides an arrays transpose\n",
    "\n",
    "x_reshape, x_reshape.shape, x_reshape.ndim, x_reshape.T"
   ]
  },
  {
   "cell_type": "code",
   "execution_count": 55,
   "metadata": {},
   "outputs": [
    {
     "data": {
      "text/plain": [
       "array([3.        , 1.41421356, 1.73205081, 2.        , 2.23606798,\n",
       "       2.44948974])"
      ]
     },
     "execution_count": 55,
     "metadata": {},
     "output_type": "execute_result"
    }
   ],
   "source": [
    "# You can easily apply functions to arrays such as sqrt or squaring the elements\n",
    "# Reminder x = [9 2 3 4 5 6]\n",
    "np.sqrt(x)"
   ]
  },
  {
   "cell_type": "code",
   "execution_count": 56,
   "metadata": {},
   "outputs": [
    {
     "data": {
      "text/plain": [
       "array([81,  4,  9, 16, 25, 36])"
      ]
     },
     "execution_count": 56,
     "metadata": {},
     "output_type": "execute_result"
    }
   ],
   "source": [
    "x**2"
   ]
  },
  {
   "cell_type": "code",
   "execution_count": null,
   "metadata": {},
   "outputs": [],
   "source": [
    "# You can generate random data and that can be done through the np.random.normal() function that generates a vector of random normal variables\n",
    "\n",
    "np.random.normal?"
   ]
  },
  {
   "cell_type": "code",
   "execution_count": 67,
   "metadata": {},
   "outputs": [
    {
     "data": {
      "text/plain": [
       "array([-1.24986049,  0.18746741, -0.31774795,  1.29805534, -1.98789185,\n",
       "       -0.04886085,  1.28681948,  1.06578599,  1.48096508, -2.30430622,\n",
       "        0.38394336, -0.60934589, -2.56424265, -0.97911938,  0.54093219,\n",
       "       -0.20950857, -0.84632441, -0.08809037,  0.40996678, -0.54407995,\n",
       "        1.42950617, -0.67086975,  1.17620287, -0.70821739, -2.25078839,\n",
       "        1.21732558,  2.33140444,  0.79954116, -0.05841957, -0.50832523,\n",
       "       -0.09082427, -0.08257849, -1.43354545,  0.32387041, -0.29851132,\n",
       "       -1.87224044, -0.65173881, -0.83572431, -0.75495637,  0.01635996,\n",
       "        1.30970456, -0.46851686,  0.00411118, -0.05741798, -1.25264576,\n",
       "       -1.22534995, -1.19733685, -0.7163491 , -0.44070535,  0.62118608])"
      ]
     },
     "execution_count": 67,
     "metadata": {},
     "output_type": "execute_result"
    }
   ],
   "source": [
    "x = np.random.normal(size=50)\n",
    "x"
   ]
  },
  {
   "cell_type": "code",
   "execution_count": 70,
   "metadata": {},
   "outputs": [
    {
     "data": {
      "text/plain": [
       "array([48.19364375, 51.33932877, 49.67253972, 51.08389286, 47.83549755,\n",
       "       50.45946993, 50.89620805, 50.36151554, 51.0736573 , 47.13278707,\n",
       "       51.14575924, 49.14599287, 45.64147293, 49.77518438, 49.42307599,\n",
       "       48.39552174, 49.51982359, 48.64478956, 49.17576679, 49.12583725,\n",
       "       51.13224231, 49.13025038, 52.91890516, 48.67823708, 49.70426553,\n",
       "       50.55522393, 53.18054642, 52.09810698, 49.93685449, 48.4433621 ,\n",
       "       51.71885494, 51.90109814, 49.63181632, 52.26601636, 50.51938303,\n",
       "       48.67668526, 48.35536184, 48.81692866, 48.79199123, 50.21042956,\n",
       "       51.77093505, 48.45981457, 50.47481266, 49.04769412, 49.52025222,\n",
       "       49.55183443, 47.43661758, 48.62182409, 48.82082904, 50.42004859])"
      ]
     },
     "execution_count": 70,
     "metadata": {},
     "output_type": "execute_result"
    }
   ],
   "source": [
    "y = x + np.random.normal(scale=1, loc=50, size=50)\n",
    "y"
   ]
  },
  {
   "cell_type": "code",
   "execution_count": 71,
   "metadata": {},
   "outputs": [
    {
     "data": {
      "text/plain": [
       "array([[1.        , 0.77000387],\n",
       "       [0.77000387, 1.        ]])"
      ]
     },
     "execution_count": 71,
     "metadata": {},
     "output_type": "execute_result"
    }
   ],
   "source": [
    "# the np.corrcoef() function computes the correlation matrix between x and y\n",
    "\n",
    "np.corrcoef(x, y)"
   ]
  },
  {
   "cell_type": "code",
   "execution_count": 72,
   "metadata": {},
   "outputs": [
    {
     "name": "stdout",
     "output_type": "stream",
     "text": [
      "[ 4.09482632 -1.07485605]\n",
      "[  4.09482632  -1.07485605 -10.15364596   1.13406146  -4.14030566]\n"
     ]
    }
   ],
   "source": [
    "# To follow along in the book we can use random seeds to generate the same data\n",
    "rng = np.random.default_rng(1303)\n",
    "print(rng.normal(scale=5, size=2))\n",
    "rng2 = np.random.default_rng(1303)\n",
    "print(rng2.normal(scale=5, size=5))"
   ]
  },
  {
   "cell_type": "code",
   "execution_count": 87,
   "metadata": {},
   "outputs": [
    {
     "name": "stdout",
     "output_type": "stream",
     "text": [
      "array y: \n",
      " [ 2.04091912 -2.55566503  0.41809885 -0.56776961 -0.45264929 -0.21559716\n",
      " -2.01998613 -0.23193238 -0.86521308  3.32299952] \n",
      "Mean of Y: -0.1126795190952861 \n",
      "Var of Y:  2.7243406406465125 \n",
      "Standard Deviation of Y:  1.6505576756498128\n"
     ]
    }
   ],
   "source": [
    "# np.mean(), np.var(), and np.std() can be used to computer the mean, variance, and standard deviation of arrays. Available as methods on the arrays\n",
    "\n",
    "rng = np.random.default_rng(3)\n",
    "y = rng.standard_normal(10)\n",
    "\n",
    "print(\"array y: \\n\", y, \"\\nMean of Y:\",  np.mean(y), \"\\nVar of Y: \", np.var(y), \"\\nStandard Deviation of Y: \" , y.std())"
   ]
  },
  {
   "cell_type": "code",
   "execution_count": 88,
   "metadata": {},
   "outputs": [
    {
     "data": {
      "text/plain": [
       "array([[ 0.22578661, -0.35263079, -0.28128742],\n",
       "       [-0.66804635, -1.05515055, -0.39080098],\n",
       "       [ 0.48194539, -0.23855361,  0.9577587 ],\n",
       "       [-0.19980213,  0.02425957,  1.54582085],\n",
       "       [ 0.54510552, -0.50522874, -0.18283897],\n",
       "       [ 0.54052513,  1.93508803, -0.26962033],\n",
       "       [-0.24355868,  1.0023136 , -0.88645994],\n",
       "       [-0.29172023,  0.88253897,  0.58035002],\n",
       "       [ 0.0915167 ,  0.67010435, -2.82816231],\n",
       "       [ 1.02130682, -0.95964476, -1.66861984]])"
      ]
     },
     "execution_count": 88,
     "metadata": {},
     "output_type": "execute_result"
    }
   ],
   "source": [
    "# You can apply functions to rows and columsn of a mtrix\n",
    "\n",
    "x = rng.standard_normal((10,3))\n",
    "x"
   ]
  },
  {
   "cell_type": "code",
   "execution_count": 92,
   "metadata": {},
   "outputs": [
    {
     "data": {
      "text/plain": [
       "array([ 0.15030588,  0.14030961, -0.34238602])"
      ]
     },
     "execution_count": 92,
     "metadata": {},
     "output_type": "execute_result"
    }
   ],
   "source": [
    "# Arrays are row-major ordered so 0 refers to its rows\n",
    "x.mean(0)"
   ]
  },
  {
   "cell_type": "code",
   "execution_count": null,
   "metadata": {},
   "outputs": [],
   "source": []
  }
 ],
 "metadata": {
  "kernelspec": {
   "display_name": "Python 3",
   "language": "python",
   "name": "python3"
  },
  "language_info": {
   "codemirror_mode": {
    "name": "ipython",
    "version": 3
   },
   "file_extension": ".py",
   "mimetype": "text/x-python",
   "name": "python",
   "nbconvert_exporter": "python",
   "pygments_lexer": "ipython3",
   "version": "3.11.5"
  },
  "orig_nbformat": 4
 },
 "nbformat": 4,
 "nbformat_minor": 2
}
