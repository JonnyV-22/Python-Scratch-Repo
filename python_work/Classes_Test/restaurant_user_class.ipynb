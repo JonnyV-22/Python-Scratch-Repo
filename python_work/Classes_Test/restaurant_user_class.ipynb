{
 "cells": [
  {
   "cell_type": "code",
   "execution_count": 15,
   "metadata": {},
   "outputs": [
    {
     "name": "stdout",
     "output_type": "stream",
     "text": [
      "My restaurant name is Thai Leaf and we serve Thai food\n",
      "Thai Leaf is now open for business\n",
      "We serve Thai food here\n",
      "\n",
      "Thai Leaf is now open for business\n",
      "NOFS is now open for business\n",
      "Mcdonalds is now open for business\n"
     ]
    }
   ],
   "source": [
    "class Restaurant:\n",
    "    def __init__(self, name, cuisine_type) -> None:\n",
    "        self.name = name\n",
    "        self.type = cuisine_type\n",
    "        \n",
    "    def open_restaurant(self):\n",
    "        print(f\"{self.name} is now open for business\")\n",
    "            \n",
    "    def describe_restaurant(self):\n",
    "        print(f\"We serve {self.type} food here\")\n",
    "        \n",
    "        \n",
    "my_restaurant = Restaurant(\"Thai Leaf\", \"Thai\")\n",
    "\n",
    "print(f\"My restaurant name is {my_restaurant.name} and we serve {my_restaurant.type} food\")\n",
    "my_restaurant.open_restaurant()\n",
    "my_restaurant.describe_restaurant()\n",
    "\n",
    "my_restaurant = Restaurant(\"Thai Leaf\", \"Thai\")\n",
    "your_restaurant = Restaurant(\"NOFS\", \"New Orleans\")\n",
    "chain_restaurant = Restaurant(\"Mcdonalds\", \"American\")\n",
    "\n",
    "print()\n",
    "my_restaurant.open_restaurant()\n",
    "your_restaurant.open_restaurant()\n",
    "chain_restaurant.open_restaurant()\n"
   ]
  },
  {
   "cell_type": "code",
   "execution_count": 23,
   "metadata": {},
   "outputs": [
    {
     "name": "stdout",
     "output_type": "stream",
     "text": [
      "Hello Jonathan Vidrine, nice to see you here!\n",
      "\n",
      "User Summary: \n",
      "First Name: Jonathan \n",
      "Last Name: Vidrine \n",
      "Age: 26 \n",
      "Job: DBA\n"
     ]
    }
   ],
   "source": [
    "class User:\n",
    "    def __init__(self,first,last,age,occupation):\n",
    "        self.first = first\n",
    "        self.last = last\n",
    "        self.age = age\n",
    "        self.occupation = occupation\n",
    "    \n",
    "    def greet_user(self):    \n",
    "        print(f\"Hello {self.first} {self.last}, nice to see you here!\")\n",
    "        \n",
    "    def summary_user(self):\n",
    "        print(f\"\\nUser Summary: \\nFirst Name: {self.first} \\nLast Name: {self.last} \\nAge: {self.age} \\nJob: {self.occupation}\")\n",
    "        \n",
    "        \n",
    "        \n",
    "my_user = User(\"Jonathan\", \"Vidrine\", 26, \"DBA\")\n",
    "\n",
    "my_user.greet_user()\n",
    "my_user.summary_user()"
   ]
  }
 ],
 "metadata": {
  "kernelspec": {
   "display_name": "Python 3",
   "language": "python",
   "name": "python3"
  },
  "language_info": {
   "codemirror_mode": {
    "name": "ipython",
    "version": 3
   },
   "file_extension": ".py",
   "mimetype": "text/x-python",
   "name": "python",
   "nbconvert_exporter": "python",
   "pygments_lexer": "ipython3",
   "version": "3.11.5"
  },
  "orig_nbformat": 4
 },
 "nbformat": 4,
 "nbformat_minor": 2
}
