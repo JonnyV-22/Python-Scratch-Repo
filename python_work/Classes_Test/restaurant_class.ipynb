{
 "cells": [
  {
   "cell_type": "code",
   "execution_count": null,
   "metadata": {},
   "outputs": [],
   "source": [
    "class Restaurant:\n",
    "    def __init__(self, name, cuisine_type) -> None:\n",
    "        self.name = name\n",
    "        self.type = cuisine_type\n",
    "        self.number_served = 0\n",
    "        \n",
    "    def open_restaurant(self):\n",
    "        print(f\"{self.name} is now open for business\")\n",
    "            \n",
    "    def describe_restaurant(self):\n",
    "        print(f\"We serve {self.type} food here\")\n",
    "        \n",
    "    def increment_number_served(self,number):\n",
    "        if number > 1:\n",
    "            self.number_served += number\n",
    "            print(f\"We added {self.number_served} customers today\")\n",
    "        else:\n",
    "            print(\"You cannot serve negative customers\")\n",
    "            \n",
    "    def set_number_served(self,number):\n",
    "        self.number_served = number\n",
    "        \n",
    "        \n",
    "my_restaurant = Restaurant(\"Thai Leaf\", \"Thai\")\n",
    "\n",
    "print(f\"My restaurant name is {my_restaurant.name} and we serve {my_restaurant.type} food\")\n",
    "my_restaurant.open_restaurant()\n",
    "my_restaurant.describe_restaurant()\n",
    "\n",
    "my_restaurant = Restaurant(\"Thai Leaf\", \"Thai\")\n",
    "your_restaurant = Restaurant(\"NOFS\", \"New Orleans\")\n",
    "chain_restaurant = Restaurant(\"Mcdonalds\", \"American\")\n",
    "\n",
    "print()\n",
    "my_restaurant.open_restaurant()\n",
    "your_restaurant.open_restaurant()\n",
    "chain_restaurant.open_restaurant()\n",
    "\n",
    "\n",
    "print(f\"\\nWe have served {my_restaurant.number_served} customers\")\n",
    "my_restaurant.set_number_served(11)\n",
    "print(f\"\\nWe have now served {my_restaurant.number_served} customers\")\n",
    "my_restaurant.increment_number_served(5)\n",
    "#my_restaurant.increment_number_served(-9)\n",
    "print(f\"{my_restaurant.number_served} customers total served as a business\")\n",
    "\n",
    "\n",
    "'''I am adding something to see how another branch works to merge back to main 9/1/2023'''\n",
    "'''Second test'''\n",
    "'''This is a test'''"
   ]
  }
 ],
 "metadata": {
  "kernelspec": {
   "display_name": "Python 3",
   "language": "python",
   "name": "python3"
  },
  "language_info": {
   "name": "python",
   "version": "3.11.5"
  },
  "orig_nbformat": 4
 },
 "nbformat": 4,
 "nbformat_minor": 2
}
