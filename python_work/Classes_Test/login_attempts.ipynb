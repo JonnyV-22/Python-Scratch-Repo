{
 "cells": [
  {
   "cell_type": "code",
   "execution_count": 7,
   "metadata": {},
   "outputs": [
    {
     "name": "stdout",
     "output_type": "stream",
     "text": [
      "Hello Jonathan Vidrine, nice to see you here!\n",
      "\n",
      "User Summary: \n",
      "First Name: Jonathan \n",
      "Last Name: Vidrine \n",
      "Age: 26 \n",
      "Job: DBA\n",
      "Attempting to login..\n",
      "\t1 attempts to login.\n",
      "Attempting to login..\n",
      "\t2 attempts to login.\n",
      "Attempting to login..\n",
      "\t3 attempts to login.\n",
      "\n",
      "Your login attempts have been set back to 0\n",
      "Attempting to login..\n",
      "\t1 attempts to login.\n"
     ]
    }
   ],
   "source": [
    "class User:\n",
    "    def __init__(self,first,last,age,occupation):\n",
    "        self.first = first\n",
    "        self.last = last\n",
    "        self.age = age\n",
    "        self.occupation = occupation\n",
    "        self.login_attempts = 0\n",
    "    \n",
    "    def greet_user(self):    \n",
    "        print(f\"Hello {self.first} {self.last}, nice to see you here!\")\n",
    "        \n",
    "    def summary_user(self):\n",
    "        print(f\"\\nUser Summary: \\nFirst Name: {self.first} \\nLast Name: {self.last} \\nAge: {self.age} \\nJob: {self.occupation}\")\n",
    "        \n",
    "    def increment_log_attempts(self):\n",
    "        print(\"Attempting to login..\")\n",
    "        self.login_attempts += 1\n",
    "        print(f\"\\t{self.login_attempts} attempts to login.\")\n",
    "    \n",
    "    def reset_log_attempts(self):\n",
    "        self.login_attempts = 0\n",
    "        print(f\"\\nYour login attempts have been set back to {self.login_attempts}\")\n",
    "        \n",
    "        \n",
    "        \n",
    "my_user = User(\"Jonathan\", \"Vidrine\", 26, \"DBA\")\n",
    "\n",
    "my_user.greet_user()\n",
    "my_user.summary_user()\n",
    "my_user.increment_log_attempts()\n",
    "my_user.increment_log_attempts()\n",
    "my_user.increment_log_attempts()\n",
    "my_user.reset_log_attempts()\n",
    "my_user.increment_log_attempts()"
   ]
  }
 ],
 "metadata": {
  "kernelspec": {
   "display_name": "Python 3",
   "language": "python",
   "name": "python3"
  },
  "language_info": {
   "codemirror_mode": {
    "name": "ipython",
    "version": 3
   },
   "file_extension": ".py",
   "mimetype": "text/x-python",
   "name": "python",
   "nbconvert_exporter": "python",
   "pygments_lexer": "ipython3",
   "version": "3.11.5"
  },
  "orig_nbformat": 4
 },
 "nbformat": 4,
 "nbformat_minor": 2
}
