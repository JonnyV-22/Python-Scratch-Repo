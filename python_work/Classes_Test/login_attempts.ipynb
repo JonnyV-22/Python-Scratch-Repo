{
 "cells": [
  {
   "cell_type": "code",
   "execution_count": 3,
   "metadata": {},
   "outputs": [
    {
     "name": "stdout",
     "output_type": "stream",
     "text": [
      "An admin: can add post\n",
      "An admin: can delete post\n",
      "An admin: can ban users\n"
     ]
    },
    {
     "data": {
      "text/plain": [
       "'\\nmy_user.greet_user()\\nmy_user.summary_user()\\nmy_user.increment_log_attempts()\\nmy_user.increment_log_attempts()\\nmy_user.increment_log_attempts()\\nmy_user.reset_log_attempts()\\nmy_user.increment_log_attempts()\\n'"
      ]
     },
     "execution_count": 3,
     "metadata": {},
     "output_type": "execute_result"
    }
   ],
   "source": [
    "class User:\n",
    "    def __init__(self,first,last,age,occupation):\n",
    "        self.first = first\n",
    "        self.last = last\n",
    "        self.age = age\n",
    "        self.occupation = occupation\n",
    "        self.login_attempts = 0\n",
    "    \n",
    "    def greet_user(self):    \n",
    "        print(f\"Hello {self.first} {self.last}, nice to see you here!\")\n",
    "        \n",
    "    def summary_user(self):\n",
    "        print(f\"\\nUser Summary: \\nFirst Name: {self.first} \\nLast Name: {self.last} \\nAge: {self.age} \\nJob: {self.occupation}\")\n",
    "        \n",
    "    def increment_log_attempts(self):\n",
    "        print(\"Attempting to login..\")\n",
    "        self.login_attempts += 1\n",
    "        print(f\"\\t{self.login_attempts} attempts to login.\")\n",
    "    \n",
    "    def reset_log_attempts(self):\n",
    "        self.login_attempts = 0\n",
    "        print(f\"\\nYour login attempts have been set back to {self.login_attempts}\")\n",
    "        \n",
    "class Admin(User):\n",
    "    def __init__(self, first, last, age, occupation):\n",
    "        super().__init__(first, last, age, occupation)\n",
    "        self.privledges = ('can add post', 'can delete post', 'can ban users')\n",
    "        \n",
    "    def display_admin_priv(self):\n",
    "        for privledge in self.privledges:\n",
    "            print(f\"An admin: {privledge}\")\n",
    "        \n",
    "        \n",
    "    \n",
    "        \n",
    "        \n",
    "my_user = User(\"Jonathan\", \"Vidrine\", 26, \"DBA\")\n",
    "my_admin = Admin(\"ADMINJV\", \"ADMIN\", 26, \"ADMIN\")\n",
    "\n",
    "my_admin.display_admin_priv()\n",
    "\n",
    "'''\n",
    "my_user.greet_user()\n",
    "my_user.summary_user()\n",
    "my_user.increment_log_attempts()\n",
    "my_user.increment_log_attempts()\n",
    "my_user.increment_log_attempts()\n",
    "my_user.reset_log_attempts()\n",
    "my_user.increment_\n",
    "log_attempts()\n",
    "'''"
   ]
  }
 ],
 "metadata": {
  "kernelspec": {
   "display_name": "Python 3",
   "language": "python",
   "name": "python3"
  },
  "language_info": {
   "codemirror_mode": {
    "name": "ipython",
    "version": 3
   },
   "file_extension": ".py",
   "mimetype": "text/x-python",
   "name": "python",
   "nbconvert_exporter": "python",
   "pygments_lexer": "ipython3",
   "version": "3.11.5"
  },
  "orig_nbformat": 4
 },
 "nbformat": 4,
 "nbformat_minor": 2
}
