{
 "cells": [
  {
   "cell_type": "code",
   "execution_count": 14,
   "metadata": {},
   "outputs": [
    {
     "name": "stdout",
     "output_type": "stream",
     "text": [
      "2020 Toyota Camry\n",
      "The car has 32146 miles\n",
      "The car has 32257 miles now\n",
      "The car has 42256 miles now\n",
      "\n",
      "You cannot roll back the odometer\n",
      "Please enter the correct number\n"
     ]
    }
   ],
   "source": [
    "class Car:\n",
    "    def __init__(self,make,model,year):\n",
    "        self.make = make\n",
    "        self.model = model\n",
    "        self.year = year\n",
    "        self.odometer_reading = 32146\n",
    "        \n",
    "    def get_descriptive_name(self):\n",
    "        long_name = f\"{self.year} {self.make} {self.model}\"\n",
    "        return long_name.title()\n",
    "    \n",
    "    def read_odometer(self):\n",
    "        print(f\"The car has {self.odometer_reading} miles\")\n",
    "        \n",
    "    def increment_odometer(self,miles):\n",
    "        if miles > 0:\n",
    "            self.odometer_reading = self.odometer_reading + miles\n",
    "            print(f\"The car has {self.odometer_reading} miles now\")\n",
    "        else: \n",
    "            print(\"\\nYou cannot roll back the odometer\\nPlease enter the correct number\")\n",
    "    \n",
    "    \n",
    "    \n",
    "my_car = Car(\"Toyota\", \"Camry\", 2020)\n",
    "    \n",
    "print(my_car.get_descriptive_name())\n",
    "my_car.read_odometer()\n",
    "my_car.increment_odometer(111)\n",
    "my_car.increment_odometer(9999)\n",
    "my_car.increment_odometer(-2)"
   ]
  }
 ],
 "metadata": {
  "kernelspec": {
   "display_name": "Python 3",
   "language": "python",
   "name": "python3"
  },
  "language_info": {
   "codemirror_mode": {
    "name": "ipython",
    "version": 3
   },
   "file_extension": ".py",
   "mimetype": "text/x-python",
   "name": "python",
   "nbconvert_exporter": "python",
   "pygments_lexer": "ipython3",
   "version": "3.11.5"
  },
  "orig_nbformat": 4
 },
 "nbformat": 4,
 "nbformat_minor": 2
}
