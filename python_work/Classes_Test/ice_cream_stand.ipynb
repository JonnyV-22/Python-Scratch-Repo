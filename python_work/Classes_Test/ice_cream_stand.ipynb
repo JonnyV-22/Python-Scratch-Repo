{
 "cells": [
  {
   "cell_type": "code",
   "execution_count": 12,
   "metadata": {},
   "outputs": [
    {
     "name": "stdout",
     "output_type": "stream",
     "text": [
      "Moo's is now open for business\n",
      "We have the following flavors:\n",
      "\tVanilla\n",
      "\tChocolate\n",
      "\tStrawberry\n"
     ]
    }
   ],
   "source": [
    "class Restaurant:\n",
    "    def __init__(self, name, cuisine_type) -> None:\n",
    "        self.name = name\n",
    "        self.type = cuisine_type\n",
    "        self.number_served = 0\n",
    "        \n",
    "    def open_restaurant(self):\n",
    "        print(f\"{self.name} is now open for business\")\n",
    "            \n",
    "    def describe_restaurant(self):\n",
    "        print(f\"We serve {self.type} food here\")\n",
    "        \n",
    "    def increment_number_served(self,number):\n",
    "        if number > 1:\n",
    "            self.number_served += number\n",
    "            print(f\"We added {self.number_served} customers today\")\n",
    "        else:\n",
    "            print(\"You cannot serve negative customers\")\n",
    "            \n",
    "    def set_number_served(self,number):\n",
    "        self.number_served = number\n",
    "        \n",
    "        \n",
    "class IcecreamStand(Restaurant):\n",
    "    def __init__(self, name, cuisine_type):\n",
    "        super().__init__(name, cuisine_type)\n",
    "        self.flavors = ('Vanilla','Chocolate','Strawberry')\n",
    "        \n",
    "    def display_flavors(self):\n",
    "        print(\"We have the following flavors:\")\n",
    "        for flavor in self.flavors:\n",
    "            print(f\"\\t{flavor}\")\n",
    "        \n",
    "            \n",
    "my_ice = IcecreamStand(\"Moo's\", \"Dessert\")\n",
    "\n",
    "my_ice.open_restaurant()\n",
    "my_ice.display_flavors()\n"
   ]
  }
 ],
 "metadata": {
  "kernelspec": {
   "display_name": "Python 3",
   "language": "python",
   "name": "python3"
  },
  "language_info": {
   "codemirror_mode": {
    "name": "ipython",
    "version": 3
   },
   "file_extension": ".py",
   "mimetype": "text/x-python",
   "name": "python",
   "nbconvert_exporter": "python",
   "pygments_lexer": "ipython3",
   "version": "3.11.5"
  },
  "orig_nbformat": 4
 },
 "nbformat": 4,
 "nbformat_minor": 2
}
