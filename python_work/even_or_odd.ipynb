{
 "cells": [
  {
   "cell_type": "code",
   "execution_count": 10,
   "metadata": {},
   "outputs": [],
   "source": [
    "'''\n",
    "Check if the given number is even or not. Your function should return True if the number is even, and False if the number is odd.\n",
    "\n",
    "Input: An integer (int).\n",
    "\n",
    "Output: Logic value (bool).\n",
    "'''\n",
    "\n",
    "\n",
    "'''\n",
    "& is the bit wise operator for and\n",
    "&& is the logical and\n",
    "\n",
    "a number that ends with binary 0 will be even; with 1 is odd\n",
    "so num & 1 checking the last bit will determine if this odd or even with all values including negative\n",
    "'''\n",
    "def is_even(num: int) -> bool:\n",
    "    return num & 1 == 0\n",
    "\n"
   ]
  }
 ],
 "metadata": {
  "kernelspec": {
   "display_name": "Python 3",
   "language": "python",
   "name": "python3"
  },
  "language_info": {
   "codemirror_mode": {
    "name": "ipython",
    "version": 3
   },
   "file_extension": ".py",
   "mimetype": "text/x-python",
   "name": "python",
   "nbconvert_exporter": "python",
   "pygments_lexer": "ipython3",
   "version": "3.11.5"
  },
  "orig_nbformat": 4
 },
 "nbformat": 4,
 "nbformat_minor": 2
}
