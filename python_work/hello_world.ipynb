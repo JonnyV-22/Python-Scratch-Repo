{
 "cells": [
  {
   "cell_type": "code",
   "execution_count": 1,
   "metadata": {},
   "outputs": [
    {
     "name": "stdout",
     "output_type": "stream",
     "text": [
      "Hello Python World!\n"
     ]
    }
   ],
   "source": [
    "print(\"Hello Python World!\")"
   ]
  },
  {
   "cell_type": "code",
   "execution_count": 8,
   "metadata": {},
   "outputs": [
    {
     "name": "stdout",
     "output_type": "stream",
     "text": [
      "Jonathan Vidrine\n",
      "JONATHAN VIDRINE\n",
      "jonathan vidrine\n",
      "False\n"
     ]
    }
   ],
   "source": [
    "name = \"jonathan vidrine\"\n",
    "\n",
    "print(name.title())\n",
    "print(name.upper())\n",
    "print(name.lower())\n",
    "print(name.isalpha())\n"
   ]
  },
  {
   "cell_type": "code",
   "execution_count": 14,
   "metadata": {},
   "outputs": [
    {
     "name": "stdout",
     "output_type": "stream",
     "text": [
      "Welcome, JONATHAN VIDRINE!\n"
     ]
    }
   ],
   "source": [
    "'''\n",
    "You can use f before an opening quotation mark to pass in variables surrounded by curly brackets\n",
    "Python will replace each variable when the string is displayed\n",
    "'''\n",
    "\n",
    "first_name = \"Jonathan\"\n",
    "last_name = \"Vidrine\"\n",
    "\n",
    "full_name = f\"{first_name} {last_name}\"\n",
    "print(f\"Welcome, {full_name.upper()}!\")"
   ]
  },
  {
   "cell_type": "code",
   "execution_count": 20,
   "metadata": {},
   "outputs": [
    {
     "name": "stdout",
     "output_type": "stream",
     "text": [
      "\tJonathan \n",
      "Jonathan\n",
      "Vidrine\n",
      "Vidrine,\n",
      "\tJonathan\n"
     ]
    }
   ],
   "source": [
    "'''\n",
    "\\t in a print statement will add a tab indent\n",
    "\\n in a print statement will add a new line\n",
    "'''\n",
    "\n",
    "first_name = \"Jonathan\"\n",
    "last_name = \"Vidrine\"\n",
    "print(f\"\\t{first_name} \")\n",
    "print(f\"{first_name}\\n{last_name}\")\n",
    "print(f\"{last_name},\\n\\t{first_name}\")"
   ]
  },
  {
   "cell_type": "code",
   "execution_count": 26,
   "metadata": {},
   "outputs": [
    {
     "name": "stdout",
     "output_type": "stream",
     "text": [
      "Example\n",
      "2\n"
     ]
    }
   ],
   "source": [
    "def mult_two(a: int, b: int) -> int:\n",
    "    mult = a * b\n",
    "    return mult\n",
    "\n",
    "\n",
    "print(\"Example\")\n",
    "print(mult_two(1, 2))\n",
    "\n",
    "assert mult_two(3, 2) == 6\n",
    "assert mult_two(0, 1) == 0"
   ]
  },
  {
   "cell_type": "code",
   "execution_count": 27,
   "metadata": {},
   "outputs": [
    {
     "name": "stdout",
     "output_type": "stream",
     "text": [
      "Example\n",
      "8\n"
     ]
    }
   ],
   "source": [
    "from operator import mul as mult_two\n",
    "\n",
    "print(\"Example\")\n",
    "print(mult_two(2, 4))\n",
    "\n",
    "assert mult_two(3, 2) == 6\n",
    "assert mult_two(0, 1) == 0"
   ]
  },
  {
   "cell_type": "code",
   "execution_count": 32,
   "metadata": {},
   "outputs": [
    {
     "name": "stdout",
     "output_type": "stream",
     "text": [
      "Example\n",
      "8\n"
     ]
    }
   ],
   "source": [
    "import numpy as np\n",
    "\n",
    "def mult_two(a :int, b:int) -> int:\n",
    "    return np.prod([a,b])\n",
    "\n",
    "print(\"Example\")\n",
    "print(mult_two(2, 4))"
   ]
  }
 ],
 "metadata": {
  "kernelspec": {
   "display_name": "Python 3",
   "language": "python",
   "name": "python3"
  },
  "language_info": {
   "codemirror_mode": {
    "name": "ipython",
    "version": 3
   },
   "file_extension": ".py",
   "mimetype": "text/x-python",
   "name": "python",
   "nbconvert_exporter": "python",
   "pygments_lexer": "ipython3",
   "version": "3.11.5"
  },
  "orig_nbformat": 4
 },
 "nbformat": 4,
 "nbformat_minor": 2
}
