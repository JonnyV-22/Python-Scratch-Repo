{
 "cells": [
  {
   "cell_type": "code",
   "execution_count": 10,
   "metadata": {},
   "outputs": [
    {
     "name": "stdout",
     "output_type": "stream",
     "text": [
      "yeh\n"
     ]
    },
    {
     "data": {
      "text/plain": [
       "'yeh'"
      ]
     },
     "execution_count": 10,
     "metadata": {},
     "output_type": "execute_result"
    }
   ],
   "source": [
    "'''You should return a given string in reverse order.'''\n",
    "\n",
    "\n",
    "\n",
    "def backward_string(string):\n",
    "    string = string[::-1]\n",
    "    return string\n",
    "    \n",
    "\n",
    "\n",
    "\n",
    "backward_string(\"hey\")\n",
    "\n",
    "assert backward_string(\"val\") == \"lav\"\n",
    "assert backward_string(\"\") == \"\"\n",
    "assert backward_string(\"ohho\") == \"ohho\"\n",
    "assert backward_string(\"123456789\") == \"987654321\"\n"
   ]
  },
  {
   "cell_type": "code",
   "execution_count": 14,
   "metadata": {},
   "outputs": [
    {
     "name": "stdout",
     "output_type": "stream",
     "text": [
      "Example:\n",
      "Fizz\n"
     ]
    }
   ],
   "source": [
    "'''You should write a function that will receive a positive integer and return: \"Fizz\" if the number is divisible by 3 (3, 6, 9 ...) otherwise convert the given number to a string (2 -> \"2\").'''\n",
    "\n",
    "def checkio(num: int) -> str:\n",
    "    if num % 3 == 0:\n",
    "        return \"Fizz\"\n",
    "    else:\n",
    "        return str(num)\n",
    "\n",
    "print(\"Example:\")\n",
    "print(checkio(3))\n",
    "\n",
    "# These \"asserts\" are used for self-checking\n",
    "assert checkio(15) == \"Fizz\"\n",
    "assert checkio(6) == \"Fizz\"\n",
    "assert checkio(10) == \"10\"\n",
    "assert checkio(7) == \"7\""
   ]
  }
 ],
 "metadata": {
  "kernelspec": {
   "display_name": "Python 3",
   "language": "python",
   "name": "python3"
  },
  "language_info": {
   "codemirror_mode": {
    "name": "ipython",
    "version": 3
   },
   "file_extension": ".py",
   "mimetype": "text/x-python",
   "name": "python",
   "nbconvert_exporter": "python",
   "pygments_lexer": "ipython3",
   "version": "3.11.5"
  },
  "orig_nbformat": 4
 },
 "nbformat": 4,
 "nbformat_minor": 2
}
